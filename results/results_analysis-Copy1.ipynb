{
 "cells": [
  {
   "cell_type": "code",
   "execution_count": 1,
   "id": "5f135649",
   "metadata": {},
   "outputs": [],
   "source": [
    "import sys\n",
    "import numpy as np\n",
    "import pandas as pd\n",
    "from matplotlib import pyplot as plt\n",
    "from sklearn.datasets import make_checkerboard, make_blobs\n",
    "from sklearn.cluster import SpectralBiclustering\n",
    "from sklearn.metrics import consensus_score\n",
    "from scipy import stats\n",
    "import matplotlib.pyplot as plt\n",
    "from scipy.stats import multivariate_normal\n",
    "import csv\n",
    "import numpy as np, numpy.random\n",
    "import json\n",
    "from sklearn.metrics import adjusted_rand_score, normalized_mutual_info_score,rand_score"
   ]
  },
  {
   "cell_type": "code",
   "execution_count": 16,
   "id": "eca3f0ec",
   "metadata": {},
   "outputs": [],
   "source": [
    "# Load results \n",
    "g = open('../data/synthetic_20000_20_30_labels.json')\n",
    "results = json.load(g)"
   ]
  },
  {
   "cell_type": "code",
   "execution_count": 17,
   "id": "2f21cf16",
   "metadata": {},
   "outputs": [],
   "source": [
    "results[\"empiricalMean\"] = [1.6102440650547567]\n",
    "results[\"empiricalCovariance\"] = [0.030626784914094235]"
   ]
  },
  {
   "cell_type": "code",
   "execution_count": 18,
   "id": "bf5c92e6",
   "metadata": {},
   "outputs": [],
   "source": [
    "with open(\"../data/synthetic_20000_20_30_info.json\", \"w\") as f:\n",
    "    json.dump(results, f)"
   ]
  }
 ],
 "metadata": {
  "kernelspec": {
   "display_name": "Python 3 (ipykernel)",
   "language": "python",
   "name": "python3"
  },
  "language_info": {
   "codemirror_mode": {
    "name": "ipython",
    "version": 3
   },
   "file_extension": ".py",
   "mimetype": "text/x-python",
   "name": "python",
   "nbconvert_exporter": "python",
   "pygments_lexer": "ipython3",
   "version": "3.11.5"
  }
 },
 "nbformat": 4,
 "nbformat_minor": 5
}
